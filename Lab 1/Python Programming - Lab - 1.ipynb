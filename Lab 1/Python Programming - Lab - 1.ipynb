{
 "cells": [
  {
   "cell_type": "markdown",
   "metadata": {},
   "source": [
    "<a href='https://www.darshan.ac.in/'> <img src='https://www.darshan.ac.in/Content/media/DU_Logo.svg' width=\"250\" height=\"300\"/></a>\n",
    "\n",
    "<pre>\n",
    "<center><b><h1>Python Programming - 2101CS405</b></center>\n",
    "<center><b><h1>Lab - 1</b></center>    \n",
    "<pre>\n"
   ]
  },
  {
   "cell_type": "markdown",
   "metadata": {},
   "source": [
    "### 01) WAP to print “Hello World”\n"
   ]
  },
  {
   "cell_type": "code",
   "execution_count": 1,
   "metadata": {},
   "outputs": [
    {
     "name": "stdout",
     "output_type": "stream",
     "text": [
      "Hello World\n"
     ]
    }
   ],
   "source": [
    "print(\"Hello World\")\n"
   ]
  },
  {
   "cell_type": "markdown",
   "metadata": {},
   "source": [
    "### 02) WAP to print your address i) using single print ii) using multiple print\n"
   ]
  },
  {
   "cell_type": "code",
   "execution_count": 7,
   "metadata": {},
   "outputs": [
    {
     "name": "stdout",
     "output_type": "stream",
     "text": [
      "7,Ankur Nagar \n",
      " Near Ankur Vidhyalaya \n",
      " Krushna Nagar Main Road \n",
      " Rajkot\n",
      "7,Ankur Nagar\n",
      "Near Ankur Vidhyalaya\n",
      "Krushna Nagar Main Road \n",
      "Rajkot\n"
     ]
    }
   ],
   "source": [
    "print(\"7,Ankur Nagar \\n Near Ankur Vidhyalaya \\n Krushna Nagar Main Road \\n Rajkot\")\n",
    "\n",
    "print(\"7,Ankur Nagar\")\n",
    "print(\"Near Ankur Vidhyalaya\")\n",
    "print(\"Krushna Nagar Main Road \")\n",
    "print(\"Rajkot\")\n"
   ]
  },
  {
   "cell_type": "markdown",
   "metadata": {},
   "source": [
    "### 03) WAP to print addition of 2 numbers (without input function)\n"
   ]
  },
  {
   "cell_type": "code",
   "execution_count": 9,
   "metadata": {},
   "outputs": [
    {
     "name": "stdout",
     "output_type": "stream",
     "text": [
      "Addition :  30\n"
     ]
    }
   ],
   "source": [
    "a = 10\n",
    "b = 20\n",
    "print(\"Addition : \", a+b)\n"
   ]
  },
  {
   "cell_type": "markdown",
   "metadata": {},
   "source": [
    "### 04) WAP to calculate and print average of 2 numbers (without input function)\n"
   ]
  },
  {
   "cell_type": "code",
   "execution_count": 10,
   "metadata": {},
   "outputs": [
    {
     "name": "stdout",
     "output_type": "stream",
     "text": [
      "Avarage :  15.0\n"
     ]
    }
   ],
   "source": [
    "a = 10\n",
    "b = 20\n",
    "print(\"Avarage : \", (a+b)/2)\n"
   ]
  },
  {
   "cell_type": "markdown",
   "metadata": {},
   "source": [
    "### 05) WAP to add two number entered by user.\n"
   ]
  },
  {
   "cell_type": "code",
   "execution_count": 12,
   "metadata": {},
   "outputs": [
    {
     "name": "stdout",
     "output_type": "stream",
     "text": [
      "Addition :  30\n"
     ]
    }
   ],
   "source": [
    "a = int(input(\"Enter First Number : \"))\n",
    "b = int(input(\"Enter Second Number : \"))\n",
    "print(\"Addition : \", a+b)\n"
   ]
  },
  {
   "cell_type": "markdown",
   "metadata": {},
   "source": [
    "### 06) WAP to calculate simple interest.\n"
   ]
  },
  {
   "cell_type": "code",
   "execution_count": 13,
   "metadata": {},
   "outputs": [
    {
     "name": "stdout",
     "output_type": "stream",
     "text": [
      "Simple Intrest :  50.0\n"
     ]
    }
   ],
   "source": [
    "p = int(input(\"Enter Principal Amount : \"))\n",
    "r = int(input(\"Enter Rate Per Annum : \"))\n",
    "n = int(input(\"Enter Time : \"))\n",
    "print(\"Simple Intrest : \", (p*r*n)/100)\n"
   ]
  },
  {
   "cell_type": "markdown",
   "metadata": {},
   "source": [
    "### 07) WAP Calculate Area and Circumfrence of Circle\n"
   ]
  },
  {
   "cell_type": "code",
   "execution_count": 20,
   "metadata": {},
   "outputs": [
    {
     "name": "stdout",
     "output_type": "stream",
     "text": [
      "Area Of Circle Having Radius 1 Is :  3.14\n",
      "Circumfrence Of Circle Having Radius 1 Is :  6.28\n"
     ]
    }
   ],
   "source": [
    "r = int(input(\"Enter Radius : \"))\n",
    "print(f\"Area Of Circle Having Radius {r} Is : \", (3.14*r*r))\n",
    "print(f\"Circumfrence Of Circle Having Radius {r} Is : \", (2*3.14*r))\n"
   ]
  },
  {
   "cell_type": "markdown",
   "metadata": {},
   "source": [
    "### 08) WAP to print Multiplication table of given number without using loops.\n"
   ]
  },
  {
   "cell_type": "code",
   "execution_count": 21,
   "metadata": {},
   "outputs": [
    {
     "name": "stdout",
     "output_type": "stream",
     "text": [
      "10 * 1 = 10\n",
      "10 * 2 = 20\n",
      "10 * 3 = 30\n",
      "10 * 4 = 40\n",
      "10 * 5 = 50\n",
      "10 * 6 = 60\n",
      "10 * 7 = 70\n",
      "10 * 8 = 80\n",
      "10 * 9 = 90\n",
      "10 * 10 = 100\n"
     ]
    }
   ],
   "source": [
    "n = int(input(\"Enter A Number : \"))\n",
    "\n",
    "print(n, \"*\", 1, \"=\", n * 1)\n",
    "print(n, \"*\", 2, \"=\", n * 2)\n",
    "print(n, \"*\", 3, \"=\", n * 3)\n",
    "print(n, \"*\", 4, \"=\", n * 4)\n",
    "print(n, \"*\", 5, \"=\", n * 5)\n",
    "print(n, \"*\", 6, \"=\", n * 6)\n",
    "print(n, \"*\", 7, \"=\", n * 7)\n",
    "print(n, \"*\", 8, \"=\", n * 8)\n",
    "print(n, \"*\", 9, \"=\", n * 9)\n",
    "print(n, \"*\", 10, \"=\", n * 10)\n"
   ]
  },
  {
   "cell_type": "markdown",
   "metadata": {},
   "source": [
    "### 09) WAP to calculate Area of Triangle (hint: a = h _ b _ 0.5)\n"
   ]
  },
  {
   "cell_type": "code",
   "execution_count": 22,
   "metadata": {},
   "outputs": [
    {
     "name": "stdout",
     "output_type": "stream",
     "text": [
      "Area Of Tringle Is :  2.0\n"
     ]
    }
   ],
   "source": [
    "h = int(input(\"Enter Height : \"))\n",
    "b = int(input(\"Enter Breath : \"))\n",
    "print(\"Area Of Tringle Is : \", (h*b*0.5))\n"
   ]
  },
  {
   "cell_type": "markdown",
   "metadata": {},
   "source": [
    "### 10) WAP to convert degree to Fahrenheit and vice versa.\n"
   ]
  },
  {
   "cell_type": "code",
   "execution_count": 27,
   "metadata": {},
   "outputs": [
    {
     "name": "stdout",
     "output_type": "stream",
     "text": [
      "100°C =  212.0 F\n",
      "212°F =  100.0 C\n"
     ]
    }
   ],
   "source": [
    "d = int(input(\"Enter Degree : \"))\n",
    "f = (d*9/5)+32\n",
    "print(f\"{d}°C = \", f, \"F\")\n",
    "\n",
    "f = int(input(\"Enter Fahrenhit : \"))\n",
    "c = (f-32)*5/9\n",
    "print(f\"{f}°F = \", c, \"C\")\n"
   ]
  },
  {
   "cell_type": "markdown",
   "metadata": {},
   "source": [
    "### 11) WAP to calculate total marks and Percentage.\n"
   ]
  },
  {
   "cell_type": "code",
   "execution_count": 31,
   "metadata": {},
   "outputs": [
    {
     "name": "stdout",
     "output_type": "stream",
     "text": [
      "Total Of 100 , 99 , and 98 Is  297  And Percentage Is :  99.0\n"
     ]
    }
   ],
   "source": [
    "m1 = int(input(\"Enter Physics's Mark : \"))\n",
    "m2 = int(input(\"Enter Chemistry's Mark : \"))\n",
    "m3 = int(input(\"Enter Maths's Mark : \"))\n",
    "print(f\"Total Of {m1} , {m2} , and {m3} Is \",\n",
    "      (m1+m2+m3), \" And Percentage Is : \", (m1+m2+m3)/3)\n"
   ]
  },
  {
   "cell_type": "markdown",
   "metadata": {},
   "source": [
    "### 12) Compute distance between two points taking input from the user (Pythagorean Theorem).\n"
   ]
  },
  {
   "cell_type": "code",
   "execution_count": 1,
   "metadata": {},
   "outputs": [
    {
     "name": "stdout",
     "output_type": "stream",
     "text": [
      "Distance Between 1,1 And 1,1 Is 0.0\n"
     ]
    }
   ],
   "source": [
    "x1 = int(input(\"Enter X1 Coordinate : \"))\n",
    "x2 = int(input(\"Enter X2 Coordinate : \"))\n",
    "y1 = int(input(\"Enter y1 Coordinate : \"))\n",
    "y2 = int(input(\"Enter y2 Coordinate : \"))\n",
    "distance = (((x1-x2)**2)+((y1-y1)**2)**0.5)\n",
    "print(f\"Distance Between {x1},{x2} And {y1},{y2} Is\",\n",
    "      distance)\n"
   ]
  },
  {
   "cell_type": "markdown",
   "metadata": {},
   "source": [
    "### 13) WAP to convert seconds into hours, minutes & seconds and print in HH:MM:SS\n",
    "\n",
    "[e.g. 10000 seconds mean 2:46:40 (2 Hours, 46 Minutes, 40Seconds)]\n"
   ]
  },
  {
   "cell_type": "code",
   "execution_count": 34,
   "metadata": {},
   "outputs": [
    {
     "name": "stdout",
     "output_type": "stream",
     "text": [
      "2:46:40\n"
     ]
    }
   ],
   "source": [
    "s = int(input(\"Enter Seconds : \"))\n",
    "h = s//3600\n",
    "m = (s % 3600)//60\n",
    "s = (s % 3600) % 60\n",
    "print(f\"{h}:{m}:{s}\")\n"
   ]
  },
  {
   "cell_type": "markdown",
   "metadata": {},
   "source": [
    "### 14) WAP to enter distance into kilometer and convert it into meter, feet,inches, and centimeter\n"
   ]
  },
  {
   "cell_type": "code",
   "execution_count": 36,
   "metadata": {},
   "outputs": [
    {
     "name": "stdout",
     "output_type": "stream",
     "text": [
      "1 Kilometer Is 1000 Meter 3281 Foot 39370 Inch 100000 Centimeters\n"
     ]
    }
   ],
   "source": [
    "k = int(input(\"Enter Distance In Kilometer : \"))\n",
    "m = k*1000\n",
    "f = k*3281\n",
    "i = k*39370\n",
    "c = k*100000\n",
    "print(f\"{k} Kilometer Is {m} Meter {f} Foot {i} Inch {c} Centimeters\")\n"
   ]
  }
 ],
 "metadata": {
  "kernelspec": {
   "display_name": "Python 3.11.0 64-bit",
   "language": "python",
   "name": "python3"
  },
  "language_info": {
   "codemirror_mode": {
    "name": "ipython",
    "version": 3
   },
   "file_extension": ".py",
   "mimetype": "text/x-python",
   "name": "python",
   "nbconvert_exporter": "python",
   "pygments_lexer": "ipython3",
   "version": "3.11.0"
  },
  "vscode": {
   "interpreter": {
    "hash": "5238573367df39f7286bb46f9ff5f08f63a01a80960060ce41e3c79b190280fa"
   }
  }
 },
 "nbformat": 4,
 "nbformat_minor": 4
}
