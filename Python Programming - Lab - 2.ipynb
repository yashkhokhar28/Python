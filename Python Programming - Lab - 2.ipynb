{
 "cells": [
  {
   "cell_type": "markdown",
   "metadata": {},
   "source": [
    "<a href='https://www.darshan.ac.in/'> <img src='https://www.darshan.ac.in/Content/media/DU_Logo.svg' width=\"250\" height=\"300\"/></a>\n",
    "\n",
    "<pre>\n",
    "<center><b><h1>Python Programming - 2101CS405</b></center>\n",
    "<center><b><h1>Lab - 2</b></center>    \n",
    "<pre>\n"
   ]
  },
  {
   "cell_type": "markdown",
   "metadata": {},
   "source": [
    "# if..else..\n"
   ]
  },
  {
   "cell_type": "markdown",
   "metadata": {},
   "source": [
    "### 01) WAP to check whether the given number is positive or negative.\n"
   ]
  },
  {
   "cell_type": "code",
   "execution_count": 1,
   "metadata": {},
   "outputs": [
    {
     "name": "stdout",
     "output_type": "stream",
     "text": [
      "-23 Is Negative\n"
     ]
    }
   ],
   "source": [
    "N = int(input(\"Enter A Number : \"))\n",
    "if N > 0:\n",
    "    print(f\"{N} Is Positive\")\n",
    "else:\n",
    "    print(f\"{N} Is Negative\")\n"
   ]
  },
  {
   "cell_type": "markdown",
   "metadata": {},
   "source": [
    "### 02) WAP to check whether the given number is odd or even\n"
   ]
  },
  {
   "cell_type": "code",
   "execution_count": 5,
   "metadata": {},
   "outputs": [
    {
     "name": "stdout",
     "output_type": "stream",
     "text": [
      "45 Is Odd\n"
     ]
    }
   ],
   "source": [
    "N = int(input(\"Enter A Number : \"))\n",
    "if N % 2 == 0:\n",
    "    print(f\"{N} Is Even\")\n",
    "else:\n",
    "    print(f\"{N} Is Odd\")\n"
   ]
  },
  {
   "cell_type": "markdown",
   "metadata": {},
   "source": [
    "### 03) WAP to find out largest number from given two numbers using simple if and ternary operator.\n"
   ]
  },
  {
   "cell_type": "code",
   "execution_count": 12,
   "metadata": {},
   "outputs": [
    {
     "name": "stdout",
     "output_type": "stream",
     "text": [
      "Simple If : 9876543 Is Larger\n",
      "Ternary : 9876543 Is Larger\n"
     ]
    }
   ],
   "source": [
    "a = int(input(\"Enter A Number : \"))\n",
    "b = int(input(\"Enter Second Number : \"))\n",
    "if a > b:\n",
    "    print(f\"Simple If : {a} Is Larger\")\n",
    "else:\n",
    "    print(f\"Simple If : {b} Is Larger\")\n",
    "\n",
    "print(f\"Ternary : {a} Is Larger\" if a > b else f\"Ternary : {b} Is Larger\")\n"
   ]
  },
  {
   "cell_type": "markdown",
   "metadata": {},
   "source": [
    "### 04) WAP to find out largest number from given three numbers.\n"
   ]
  },
  {
   "cell_type": "code",
   "execution_count": 13,
   "metadata": {},
   "outputs": [
    {
     "name": "stdout",
     "output_type": "stream",
     "text": [
      "3 Is Largest\n"
     ]
    }
   ],
   "source": [
    "a = int(input(\"Enter A Number : \"))\n",
    "b = int(input(\"Enter A Number : \"))\n",
    "c = int(input(\"Enter A Number : \"))\n",
    "if a > b and a > c:\n",
    "    print(f\"{a} Is Largest\")\n",
    "if b > a and b > c:\n",
    "    print(f\"{b} Is Largest\")\n",
    "if c > a and c > b:\n",
    "    print(f\"{c} Is Largest\")\n"
   ]
  },
  {
   "cell_type": "markdown",
   "metadata": {},
   "source": [
    "### 05) WAP to check whether the given year is leap year or not.\n",
    "\n",
    "[If a year can be divisible by 4 but not divisible by 100 then it is leap year but if it is divisible by 400 then it is leap year]\n"
   ]
  },
  {
   "cell_type": "code",
   "execution_count": null,
   "metadata": {},
   "outputs": [],
   "source": [
    "Y = int(input(\"Enter A Year : \"))\n",
    "if Y % 4 == 0:\n",
    "    print(f\"{Y} Is Leap Year\")\n",
    "if Y % 100 != 0:\n",
    "    print(f\"{Y} Is Not Leap Year\")\n",
    "if Y % 400:\n",
    "    print(f\"{Y} Is Leap Year\")\n"
   ]
  },
  {
   "cell_type": "markdown",
   "metadata": {},
   "source": [
    "### 06) WAP in python to display the name of the day according to the number given by the user\n"
   ]
  },
  {
   "cell_type": "code",
   "execution_count": 14,
   "metadata": {},
   "outputs": [
    {
     "name": "stdout",
     "output_type": "stream",
     "text": [
      "Wednesday\n"
     ]
    }
   ],
   "source": [
    "N = int(input(\"Enter A Number : \"))\n",
    "if N == 1:\n",
    "    print(\"Sunday\")\n",
    "if N == 2:\n",
    "    print(\"Monday\")\n",
    "if N == 3:\n",
    "    print(\"Tuesday\")\n",
    "if N == 4:\n",
    "    print(\"Wednesday\")\n",
    "if N == 5:\n",
    "    print(\"Thursday\")\n",
    "if N == 6:\n",
    "    print(\"Friday\")\n",
    "if N == 7:\n",
    "    print(\"Saturday\")\n"
   ]
  },
  {
   "cell_type": "markdown",
   "metadata": {},
   "source": [
    "### 07) WAP to implement simple calculator which performs (add,sub,mul,div) of two no. based on user input.\n"
   ]
  },
  {
   "cell_type": "code",
   "execution_count": 15,
   "metadata": {},
   "outputs": [
    {
     "name": "stdout",
     "output_type": "stream",
     "text": [
      "The Sum Of 4 and 5 is  9\n"
     ]
    }
   ],
   "source": [
    "n1 = int(input(\"Enter First Number : \"))\n",
    "n2 = int(input(\"Enter Second Number : \"))\n",
    "sign = input(\"Enter Operation : \")\n",
    "\n",
    "if sign == '+':\n",
    "    print(f\"The Sum Of {n1} and {n2} is \", n1 + n2)\n",
    "\n",
    "elif sign == '-':\n",
    "    print(f\"The Subtraction Of {n1} and {n2} is \", n1 - n2)\n",
    "\n",
    "elif sign == '*':\n",
    "    print(f\"The Multiplication Of {n1} and {n2} is \", n1 * n2)\n",
    "\n",
    "elif sign == '/':\n",
    "    print(f\"The Division Of {n1} and {n2} is \", n1 / n2)\n"
   ]
  },
  {
   "cell_type": "markdown",
   "metadata": {},
   "source": [
    "### 08) WAP to calculate electricity bill based on following criteria. Which takes the unit from the user.\n",
    "\n",
    "a. First 1 to 50 units – Rs. 2.60/unit</br>\n",
    "b. Next 50 to 100 units – Rs. 3.25/unit</br>\n",
    "c. Next 100 to 200 units – Rs. 5.26/unit</br>\n",
    "d. above 200 units – Rs. 8.45/unit\n"
   ]
  },
  {
   "cell_type": "code",
   "execution_count": 17,
   "metadata": {},
   "outputs": [
    {
     "name": "stdout",
     "output_type": "stream",
     "text": [
      "For 1000 Units Bill Is  8450.0\n"
     ]
    }
   ],
   "source": [
    "U = int(input(\"Enter Units : \"))\n",
    "if U > 1 and U < 50:\n",
    "    print(f\"For {U} Units Bill Is \", (U*2.60))\n",
    "if U > 50 and U < 100:\n",
    "    print(f\"For {U} Units Bill Is \", (U*3.25))\n",
    "if U > 100 and U < 200:\n",
    "    print(f\"For {U} Units Bill Is \", (U*5.26))\n",
    "if U > 200:\n",
    "    print(f\"For {U} Units Bill Is \", (U*8.45))\n"
   ]
  },
  {
   "cell_type": "markdown",
   "metadata": {},
   "source": [
    "### 01) WAP to read marks of five subjects. Calculate percentage and print class accordingly.\n",
    "\n",
    "Fail below 35 </br>\n",
    "Pass Class between 35 to 45 </br>\n",
    "Second Class</br>\n",
    "between 45 to 60</br>\n",
    "First Class between 60 to 70</br>\n",
    "Distinction if more than 70\n"
   ]
  },
  {
   "cell_type": "code",
   "execution_count": 21,
   "metadata": {},
   "outputs": [
    {
     "name": "stdout",
     "output_type": "stream",
     "text": [
      "Distinction\n"
     ]
    }
   ],
   "source": [
    "m1 = int(input(\"Enter Marks : \"))\n",
    "m2 = int(input(\"Enter Marks : \"))\n",
    "m3 = int(input(\"Enter Marks : \"))\n",
    "m4 = int(input(\"Enter Marks : \"))\n",
    "m5 = int(input(\"Enter Marks : \"))\n",
    "percentage = (m1+m2+m3+m4+m5)/5\n",
    "if percentage < 35:\n",
    "    print(\"Fail\")\n",
    "if percentage > 45 and percentage < 35:\n",
    "    print(\"Pass Class\")\n",
    "if percentage > 60 and percentage < 45:\n",
    "    print(\"Second Class\")\n",
    "if percentage > 70 and percentage < 60:\n",
    "    print(\"First Class\")\n",
    "if percentage > 70:\n",
    "    print(\"Distinction\")\n"
   ]
  },
  {
   "cell_type": "markdown",
   "metadata": {},
   "source": [
    "### 02) WAP to find out the Maximum and Minimum number from given 4 numbers.\n"
   ]
  },
  {
   "cell_type": "code",
   "execution_count": 18,
   "metadata": {},
   "outputs": [
    {
     "name": "stdout",
     "output_type": "stream",
     "text": [
      "5 Is Largest\n"
     ]
    }
   ],
   "source": [
    "n1 = int(input(\"Enter A Number : \"))\n",
    "n2 = int(input(\"Enter A Number : \"))\n",
    "n3 = int(input(\"Enter A Number : \"))\n",
    "n4 = int(input(\"Enter A Number : \"))\n",
    "if n1 > n2 and n1 > n3 and n1 > n4:\n",
    "    print(f\"{n1} Is Largest\")\n",
    "if n2 > n1 and n2 > n3 and n2 > n4:\n",
    "    print(f\"{n2} Is Largest\")\n",
    "if n3 > n2 and n3 > n1 and n3 > n4:\n",
    "    print(f\"{n3} Is Largest\")\n",
    "if n4 > n2 and n4 > n3 and n4 > n1:\n",
    "    print(f\"{n4} Is Largest\")\n"
   ]
  },
  {
   "cell_type": "markdown",
   "metadata": {},
   "source": [
    "### 03) WAP to input an integer number and check the last digit of number is even or odd.\n"
   ]
  },
  {
   "cell_type": "code",
   "execution_count": 19,
   "metadata": {},
   "outputs": [
    {
     "name": "stdout",
     "output_type": "stream",
     "text": [
      "6 Is Last Digit And It Is Even\n"
     ]
    }
   ],
   "source": [
    "N = int(input(\"Enter A Number : \"))\n",
    "num = N % 10\n",
    "if num % 2 == 0:\n",
    "    print(f\"{num} Is Last Digit And It Is Even\")\n",
    "else:\n",
    "    print(f\"{num} Is Last Digit And It Is Odd\")\n"
   ]
  },
  {
   "cell_type": "markdown",
   "metadata": {},
   "source": [
    "### 04) WAP to determine the roots of the equation ax2+bx+c=0.\n"
   ]
  },
  {
   "cell_type": "code",
   "execution_count": 6,
   "metadata": {},
   "outputs": [
    {
     "name": "stdout",
     "output_type": "stream",
     "text": [
      "Roots Are  (-0.5857864376269049+0j) (-3.414213562373095+0j)\n"
     ]
    }
   ],
   "source": [
    "import cmath\n",
    "import math\n",
    "\n",
    "\n",
    "a = int(input(\"Enter Value Of a : \"))\n",
    "b = int(input(\"Enter Value Of b : \"))\n",
    "c = int(input(\"Enter Value Of c : \"))\n",
    "temp1 = cmath.sqrt(math.pow(b, 2)-(4*a*c))\n",
    "root1 = (-b+(temp1))/2*a\n",
    "root2 = (-b-(temp1))/2*a\n",
    "print(\"Roots Are \", root1, root2)\n"
   ]
  }
 ],
 "metadata": {
  "kernelspec": {
   "display_name": "Python 3.11.0 64-bit",
   "language": "python",
   "name": "python3"
  },
  "language_info": {
   "codemirror_mode": {
    "name": "ipython",
    "version": 3
   },
   "file_extension": ".py",
   "mimetype": "text/x-python",
   "name": "python",
   "nbconvert_exporter": "python",
   "pygments_lexer": "ipython3",
   "version": "3.11.0"
  },
  "vscode": {
   "interpreter": {
    "hash": "5238573367df39f7286bb46f9ff5f08f63a01a80960060ce41e3c79b190280fa"
   }
  }
 },
 "nbformat": 4,
 "nbformat_minor": 4
}
