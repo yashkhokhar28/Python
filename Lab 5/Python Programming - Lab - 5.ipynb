{
 "cells": [
  {
   "cell_type": "markdown",
   "metadata": {},
   "source": [
    "\n",
    "<a href='https://www.darshan.ac.in/'> <img src='https://www.darshan.ac.in/Content/media/DU_Logo.svg' width=\"250\" height=\"300\"/></a>\n",
    "<pre>\n",
    "<center><b><h1>Python Programming - 2101CS405</b></center>\n",
    "<center><b><h1>Lab - 5</b></center>    \n",
    "<pre>"
   ]
  },
  {
   "cell_type": "markdown",
   "metadata": {},
   "source": [
    "# list"
   ]
  },
  {
   "cell_type": "markdown",
   "metadata": {},
   "source": [
    "### 01) WAP to find sum of all the elements in List."
   ]
  },
  {
   "cell_type": "code",
   "execution_count": 6,
   "metadata": {},
   "outputs": [
    {
     "name": "stdout",
     "output_type": "stream",
     "text": [
      "[1, 2, 3, 4, 5]\n",
      "15\n"
     ]
    }
   ],
   "source": [
    "list = []\n",
    "sum = 0\n",
    "input1 = 0\n",
    "n = int(input(\"Enter Number Of Element : \"))\n",
    "for i in range(n):\n",
    "    input1 = int(input())\n",
    "    list.append(input1)\n",
    "    sum = sum + input1\n",
    "print(list)\n",
    "print(sum)\n"
   ]
  },
  {
   "cell_type": "markdown",
   "metadata": {},
   "source": [
    "### 02) WAP to find largest element in a List."
   ]
  },
  {
   "cell_type": "code",
   "execution_count": 9,
   "metadata": {},
   "outputs": [
    {
     "name": "stdout",
     "output_type": "stream",
     "text": [
      "[1, 2, 3, 4]\n",
      "4\n"
     ]
    }
   ],
   "source": [
    "list = []\n",
    "input1 = 0\n",
    "n = int(input(\"Enter Number Of Element : \"))\n",
    "for i in range(n):\n",
    "    input1 = int(input())\n",
    "    list.append(input1)\n",
    "element = max(list)\n",
    "print(list)\n",
    "print(element)\n"
   ]
  },
  {
   "cell_type": "markdown",
   "metadata": {},
   "source": [
    "### 03) WAP to split the List into two and append the first part to the end."
   ]
  },
  {
   "cell_type": "code",
   "execution_count": 15,
   "metadata": {},
   "outputs": [
    {
     "name": "stdout",
     "output_type": "stream",
     "text": [
      "[1, 2, 3, 4, 1, 2]\n"
     ]
    }
   ],
   "source": [
    "list1 = []\n",
    "list2 = []\n",
    "input1 = 0\n",
    "n = int(input(\"Enter Number Of Element : \"))\n",
    "for i in range(n):\n",
    "    input1 = int(input())\n",
    "    list1.append(input1)\n",
    "half_index = len(list1)//2\n",
    "list2 = list1[0:half_index]\n",
    "# print(list2)\n",
    "list1.extend(list2)\n",
    "print(list1)\n"
   ]
  },
  {
   "cell_type": "markdown",
   "metadata": {},
   "source": [
    "### 04) WAP to interchange first and last elements in list entered by a user."
   ]
  },
  {
   "cell_type": "code",
   "execution_count": 4,
   "metadata": {},
   "outputs": [
    {
     "name": "stdout",
     "output_type": "stream",
     "text": [
      "Enter Number Of Element : 4\n",
      "1\n",
      "2\n",
      "3\n",
      "4\n",
      "[4, 2, 3, 1]\n"
     ]
    }
   ],
   "source": [
    "list1 = []\n",
    "input1 = 0\n",
    "n = int(input(\"Enter Number Of Element : \"))\n",
    "for i in range(n):\n",
    "    input1 = int(input())\n",
    "    list1.append(input1)\n",
    "last_element = len(list1)-1\n",
    "list1[0] , list1[-1]=list1[-1] , list1[0]\n",
    "# print(last_element)\n",
    "print(list1)"
   ]
  },
  {
   "cell_type": "markdown",
   "metadata": {},
   "source": [
    "### 05) WAP to interchange the elements on two positions entered by a user."
   ]
  },
  {
   "cell_type": "code",
   "execution_count": 5,
   "metadata": {},
   "outputs": [
    {
     "name": "stdout",
     "output_type": "stream",
     "text": [
      "Enter Number Of Element : 4\n",
      "1\n",
      "2\n",
      "3\n",
      "4\n",
      "Enter First Position : 2\n",
      "Enter Second Position : 3\n",
      "[1, 2, 4, 3]\n"
     ]
    }
   ],
   "source": [
    "list1 = []\n",
    "input1 = 0\n",
    "n = int(input(\"Enter Number Of Element : \"))\n",
    "for i in range(n):\n",
    "    input1 = int(input())\n",
    "    list1.append(input1)\n",
    "last_element = len(list1)-1\n",
    "n1 = int(input(\"Enter First Position : \"))\n",
    "n2 = int(input(\"Enter Second Position : \"))\n",
    "list1[n1],list1[n2]=list1[n2],list1[n1]\n",
    "print(list1)"
   ]
  },
  {
   "cell_type": "markdown",
   "metadata": {},
   "source": [
    "### 06) WAP to reverses the list entered by user."
   ]
  },
  {
   "cell_type": "code",
   "execution_count": 26,
   "metadata": {},
   "outputs": [
    {
     "name": "stdout",
     "output_type": "stream",
     "text": [
      "[4, 3, 2, 1]\n"
     ]
    }
   ],
   "source": [
    "list1 = []\n",
    "input1 = 0\n",
    "n = int(input(\"Enter Number Of Element : \"))\n",
    "for i in range(n):\n",
    "    input1 = int(input())\n",
    "    list1.append(input1)\n",
    "list1.reverse()\n",
    "print(list1)"
   ]
  },
  {
   "cell_type": "markdown",
   "metadata": {},
   "source": [
    "### 07) Python program to remove multiple elements from a list using list comprehension"
   ]
  },
  {
   "cell_type": "code",
   "execution_count": 9,
   "metadata": {},
   "outputs": [
    {
     "name": "stdout",
     "output_type": "stream",
     "text": [
      "Enter Number Of Element : 10\n",
      "1\n",
      "2\n",
      "3\n",
      "4\n",
      "5\n",
      "6\n",
      "7\n",
      "8\n",
      "9\n",
      "10\n",
      "Enter Number Of Element You Want To Delete: 5\n",
      "Enter Element You Want To Delete : 1\n",
      "Enter Element You Want To Delete : 2\n",
      "Enter Element You Want To Delete : 3\n",
      "Enter Element You Want To Delete : 4\n",
      "Enter Element You Want To Delete : 5\n",
      "[6, 7, 8, 9, 10]\n"
     ]
    }
   ],
   "source": [
    "list1 = []\n",
    "input1 = 0\n",
    "n = int(input(\"Enter Number Of Element : \"))\n",
    "for i in range(n):\n",
    "    input1 = int(input())\n",
    "    list1.append(input1)\n",
    "n1 = int(input(\"Enter Number Of Element You Want To Delete: \"))\n",
    "for x in range(n1):\n",
    "    x = int(input(\"Enter Element You Want To Delete : \"))\n",
    "    list1.remove(x)\n",
    "print(list1)\n"
   ]
  },
  {
   "cell_type": "markdown",
   "metadata": {},
   "source": [
    "### 08) Create a list from the specified start to end index of another list."
   ]
  },
  {
   "cell_type": "code",
   "execution_count": 13,
   "metadata": {},
   "outputs": [
    {
     "name": "stdout",
     "output_type": "stream",
     "text": [
      "Enter Number Of Element : 4\n",
      "1\n",
      "2\n",
      "3\n",
      "4\n",
      "Enter Start Index : 1\n",
      "Enter End Index : 3\n",
      "[2, 3]\n"
     ]
    }
   ],
   "source": [
    "list1 = []\n",
    "input1 = 0\n",
    "n = int(input(\"Enter Number Of Element : \"))\n",
    "for i in range(n):\n",
    "    input1 = int(input())\n",
    "    list1.append(input1)\n",
    "n1 = int(input(\"Enter Start Index : \"))\n",
    "n2 = int(input(\"Enter End Index : \"))\n",
    "list2=list1[n1:n2]\n",
    "print(list2)\n"
   ]
  },
  {
   "cell_type": "markdown",
   "metadata": {},
   "source": [
    "### 09) Input comma separated elements, convert into list and print."
   ]
  },
  {
   "cell_type": "code",
   "execution_count": 64,
   "metadata": {},
   "outputs": [
    {
     "name": "stdout",
     "output_type": "stream",
     "text": [
      "['1,2,3,4,5,6,7,8,9']\n"
     ]
    }
   ],
   "source": [
    "list1 = []\n",
    "n1 = input(\"Enter Element : \")\n",
    "n1.split(\",\")\n",
    "list1.append(n1)\n",
    "print(list1)\n",
    "\n"
   ]
  },
  {
   "cell_type": "markdown",
   "metadata": {},
   "source": [
    "### 01) WAP to count Even and Odd numbers in a List."
   ]
  },
  {
   "cell_type": "code",
   "execution_count": 67,
   "metadata": {},
   "outputs": [
    {
     "name": "stdout",
     "output_type": "stream",
     "text": [
      "[1, 2, 3, 4, 5, 6, 7, 8, 9]\n",
      "Odd Numbers : 5\n",
      "Even Numbers : 4\n"
     ]
    }
   ],
   "source": [
    "list1 = []\n",
    "input1 = 0\n",
    "even_count = 0\n",
    "odd_count = 0\n",
    "n = int(input(\"Enter Number Of Element : \"))\n",
    "for i in range(n):\n",
    "    input1 = int(input())\n",
    "    list1.append(input1)\n",
    "    if list1[i]%2==0:\n",
    "        even_count +=1\n",
    "    elif list1[i]%2!=0:\n",
    "        odd_count +=1\n",
    "print(list1)\n",
    "print(f\"Odd Numbers : {odd_count}\")\n",
    "print(f\"Even Numbers : {even_count}\")\n",
    "    \n"
   ]
  },
  {
   "cell_type": "markdown",
   "metadata": {},
   "source": [
    "### 02) Python program to find N largest and smallest elements from the list"
   ]
  },
  {
   "cell_type": "code",
   "execution_count": 15,
   "metadata": {},
   "outputs": [
    {
     "name": "stdout",
     "output_type": "stream",
     "text": [
      "Enter Number Of Element : 4\n",
      "1\n",
      "2\n",
      "3\n",
      "4\n",
      "Enter Number : 4\n",
      "Smallest :  [1, 2, 3, 4]\n",
      "Largest :  [1, 2, 3, 4]\n"
     ]
    }
   ],
   "source": [
    "list1 = []\n",
    "input1 = 0\n",
    "n = int(input(\"Enter Number Of Element : \"))\n",
    "for i in range(n):\n",
    "    input1 = int(input())\n",
    "    list1.append(input1)\n",
    "list1.sort()\n",
    "n = int(input(\"Enter Number : \"))\n",
    "print(\"Smallest : \",list1[0:n])\n",
    "length = len(list1)-n\n",
    "print(\"Largest : \",list1[length:])"
   ]
  },
  {
   "cell_type": "markdown",
   "metadata": {},
   "source": [
    "### 03) WAP to print duplicates from a list of integers"
   ]
  },
  {
   "cell_type": "code",
   "execution_count": 8,
   "metadata": {},
   "outputs": [
    {
     "name": "stdout",
     "output_type": "stream",
     "text": [
      "[1]\n"
     ]
    }
   ],
   "source": [
    "list1 = []\n",
    "uniqueList = []\n",
    "duplicateList = []\n",
    "input1 = 0\n",
    "n = int(input(\"Enter Number Of Element : \"))\n",
    "for i in range(n):\n",
    "    input1 = int(input())\n",
    "    list1.append(input1)\n",
    "list1.sort()\n",
    "for i in list1:\n",
    "    if i not in uniqueList:\n",
    "        uniqueList.append(i)\n",
    "    elif i not in duplicateList:\n",
    "        duplicateList.append(i)\n",
    "print(duplicateList)\n"
   ]
  },
  {
   "cell_type": "code",
   "execution_count": null,
   "metadata": {},
   "outputs": [],
   "source": []
  }
 ],
 "metadata": {
  "kernelspec": {
   "display_name": "Python 3 (ipykernel)",
   "language": "python",
   "name": "python3"
  },
  "language_info": {
   "codemirror_mode": {
    "name": "ipython",
    "version": 3
   },
   "file_extension": ".py",
   "mimetype": "text/x-python",
   "name": "python",
   "nbconvert_exporter": "python",
   "pygments_lexer": "ipython3",
   "version": "3.11.0"
  },
  "vscode": {
   "interpreter": {
    "hash": "5238573367df39f7286bb46f9ff5f08f63a01a80960060ce41e3c79b190280fa"
   }
  }
 },
 "nbformat": 4,
 "nbformat_minor": 4
}
