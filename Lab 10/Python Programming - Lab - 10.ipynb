{
 "cells": [
  {
   "attachments": {},
   "cell_type": "markdown",
   "metadata": {},
   "source": [
    "<a href='https://www.darshan.ac.in/'> <img src='https://www.darshan.ac.in/Content/media/DU_Logo.svg' width=\"250\" height=\"300\"/></a>\n",
    "<pre>\n",
    "<center><b><h1>Python Programming - 2101CS405</b></center>\n",
    "<center><b><h1>Lab - 10</b></center>    \n",
    "<pre>"
   ]
  },
  {
   "cell_type": "markdown",
   "metadata": {},
   "source": [
    "# Modules"
   ]
  },
  {
   "cell_type": "markdown",
   "metadata": {},
   "source": [
    "# A"
   ]
  },
  {
   "cell_type": "markdown",
   "metadata": {},
   "source": [
    "### 01) WAP to create Calculator module which defines functions like add, sub,mul and div. create another file that uses the Calculator module."
   ]
  },
  {
   "cell_type": "code",
   "execution_count": 14,
   "metadata": {},
   "outputs": [
    {
     "name": "stdout",
     "output_type": "stream",
     "text": [
      "5\n",
      "1\n",
      "6\n",
      "3.0\n"
     ]
    }
   ],
   "source": [
    "import calculator\n",
    "\n",
    "calculator.add(2,3)\n",
    "calculator.sub(3,2)\n",
    "calculator.multi(2,3)\n",
    "calculator.div(6,2)"
   ]
  },
  {
   "cell_type": "markdown",
   "metadata": {},
   "source": [
    "### 02) WAP to Pick a random character from a given String."
   ]
  },
  {
   "cell_type": "code",
   "execution_count": 18,
   "metadata": {},
   "outputs": [
    {
     "data": {
      "text/plain": [
       "'Y'"
      ]
     },
     "execution_count": 18,
     "metadata": {},
     "output_type": "execute_result"
    }
   ],
   "source": [
    "import random\n",
    "name = \"Yash\"\n",
    "\n",
    "random.choice(name)\n"
   ]
  },
  {
   "cell_type": "markdown",
   "metadata": {},
   "source": [
    "### 03) WAP to Pick a random element from a given list."
   ]
  },
  {
   "cell_type": "code",
   "execution_count": 19,
   "metadata": {},
   "outputs": [
    {
     "name": "stdout",
     "output_type": "stream",
     "text": [
      "30\n"
     ]
    }
   ],
   "source": [
    "l1 = [10,20,30]\n",
    "\n",
    "print(random.choice(l1))"
   ]
  },
  {
   "cell_type": "markdown",
   "metadata": {},
   "source": [
    "### 04) WAP to demonstrate the use of the math module."
   ]
  },
  {
   "cell_type": "code",
   "execution_count": 20,
   "metadata": {},
   "outputs": [
    {
     "name": "stdout",
     "output_type": "stream",
     "text": [
      "e =  2.718281828459045\n",
      "pie =  3.141592653589793\n",
      "tau =  6.283185307179586\n",
      "ceil =  6\n",
      "floor =  5\n",
      "factorial =  30414093201713378043612608166064768844377641568960512000000000000\n",
      "GCD  15\n",
      "LCM  30\n",
      "ABS  9e+18\n",
      "EXP  1.3041808783936323e+52\n",
      "POWER  1.329227995784916e+36\n",
      "Log 0.5\n",
      "Log Base 2  1.0\n",
      "Log Base 10  0.3010299956639812\n",
      "Radian  3.141592653589793\n",
      "Degrees  360.0\n",
      "Gamma  120.0\n"
     ]
    }
   ],
   "source": [
    "import math\n",
    "\n",
    "print(\"e = \",math.e)\n",
    "print(\"pie = \",math.pi)\n",
    "print(\"tau = \",math.tau)\n",
    "print(\"ceil = \",math.ceil(5.6))\n",
    "print(\"floor = \",math.floor(5.6))\n",
    "print(\"factorial = \",math.factorial(50))\n",
    "print(\"GCD \",math.gcd(15,30))\n",
    "print(\"LCM \",math.lcm(15,30))\n",
    "print(\"ABS \",math.fabs(-9000000000000000000))\n",
    "print(\"EXP \",math.exp(120))\n",
    "print(\"POWER \",math.pow(2,120))\n",
    "print(\"Log\",math.log(2,4))\n",
    "print(\"Log Base 2 \",math.log2(2))\n",
    "print(\"Log Base 10 \",math.log10(2))\n",
    "print(\"Radian \",math.radians(180))\n",
    "print(\"Degrees \",math.degrees(math.pi*2))\n",
    "print(\"Gamma \",math.gamma(6))"
   ]
  },
  {
   "cell_type": "markdown",
   "metadata": {},
   "source": [
    "### 05) WAP to demonstrate the use of date time module."
   ]
  },
  {
   "cell_type": "code",
   "execution_count": 21,
   "metadata": {},
   "outputs": [
    {
     "name": "stdout",
     "output_type": "stream",
     "text": [
      "Imput Date :  2004-07-26\n",
      "Today Date :  2023-02-08\n",
      "2023-02-08\n",
      "2023\n",
      "2\n",
      "8\n",
      "10:30:05.000001\n",
      "10\n",
      "30\n",
      "5\n",
      "1\n",
      "2004-07-25 12:12:12\n",
      "2023-02-08 11:04:05.265227\n",
      "2023-02-10 11:04:05.265693\n",
      "2023-01-25 11:04:05.265693\n",
      "Wed\n",
      "Wednesday\n",
      "02\n",
      "04\n",
      "23\n",
      "2023\n"
     ]
    }
   ],
   "source": [
    "import datetime\n",
    "\n",
    "d = datetime.date(2004,7,26)\n",
    "todayDate = datetime.date.today()\n",
    "print(\"Imput Date : \",d)\n",
    "print(\"Today Date : \",todayDate)\n",
    "print(todayDate)\n",
    "print(todayDate.year)\n",
    "print(todayDate.month)\n",
    "print(todayDate.day)\n",
    "t = datetime.time(10,30,5,1)\n",
    "print(t)\n",
    "print(t.hour)\n",
    "print(t.minute)\n",
    "print(t.second)\n",
    "print(t.microsecond)\n",
    "\n",
    "dd = datetime.datetime(2004,7,25,12,12,12)\n",
    "print(dd)\n",
    "\n",
    "print(datetime.datetime.now())\n",
    "\n",
    "n = datetime.datetime.now()\n",
    "y = n+datetime.timedelta(days=2)\n",
    "a = n+datetime.timedelta(weeks=-2)\n",
    "print(y)\n",
    "print(a)\n",
    "print(n.strftime(\"%a\"))\n",
    "print(n.strftime(\"%A\"))\n",
    "print(n.strftime(\"%m\"))\n",
    "print(n.strftime(\"%M\"))\n",
    "print(n.strftime(\"%y\"))\n",
    "print(n.strftime(\"%Y\"))"
   ]
  },
  {
   "cell_type": "markdown",
   "metadata": {},
   "source": [
    "# B"
   ]
  },
  {
   "cell_type": "markdown",
   "metadata": {},
   "source": [
    "### 01) WAP to Roll dice in such a way that every time you get the same number."
   ]
  },
  {
   "cell_type": "code",
   "execution_count": 30,
   "metadata": {},
   "outputs": [
    {
     "data": {
      "text/plain": [
       "1"
      ]
     },
     "execution_count": 30,
     "metadata": {},
     "output_type": "execute_result"
    }
   ],
   "source": [
    "l1 = [1,2,3,4,5,6]\n",
    "random.seed(2)\n",
    "random.choice(l1)"
   ]
  },
  {
   "cell_type": "markdown",
   "metadata": {},
   "source": [
    "### 02) WAP to generate 3 random integers between 100 and 999 which is divisible by 5."
   ]
  },
  {
   "cell_type": "code",
   "execution_count": 37,
   "metadata": {},
   "outputs": [
    {
     "name": "stdout",
     "output_type": "stream",
     "text": [
      "365\n",
      "725\n",
      "755\n"
     ]
    }
   ],
   "source": [
    "\n",
    "for i in range(3):\n",
    "    print(random.randrange(100,1000,5))"
   ]
  },
  {
   "cell_type": "markdown",
   "metadata": {},
   "source": [
    "### 03) WAP to generate 100 random lottery tickets and pick two lucky tickets from it as a winner."
   ]
  },
  {
   "cell_type": "code",
   "execution_count": 74,
   "metadata": {},
   "outputs": [
    {
     "name": "stdout",
     "output_type": "stream",
     "text": [
      "[92, 75]\n"
     ]
    }
   ],
   "source": [
    "l1 = []\n",
    "\n",
    "for i in range(1,101):\n",
    "    x = random.randint(1,100)\n",
    "    l1.append(x)\n",
    "print(random.sample(l1,2))"
   ]
  },
  {
   "cell_type": "markdown",
   "metadata": {},
   "source": [
    "### 04) WAP to print current date and time in Python."
   ]
  },
  {
   "cell_type": "code",
   "execution_count": 38,
   "metadata": {},
   "outputs": [
    {
     "name": "stdout",
     "output_type": "stream",
     "text": [
      "2023-02-08 11:10:44.796010\n"
     ]
    }
   ],
   "source": [
    "print(datetime.datetime.now())"
   ]
  },
  {
   "cell_type": "markdown",
   "metadata": {},
   "source": [
    "### 05) Subtract a week (7 days) from a given date in Python."
   ]
  },
  {
   "cell_type": "code",
   "execution_count": 43,
   "metadata": {},
   "outputs": [
    {
     "name": "stdout",
     "output_type": "stream",
     "text": [
      "2023-02-01 11:13:30.364140\n"
     ]
    }
   ],
   "source": [
    "n = datetime.datetime.now()\n",
    "a = n+datetime.timedelta(weeks=-1)\n",
    "print(a)"
   ]
  },
  {
   "cell_type": "markdown",
   "metadata": {},
   "source": [
    "### 06) WAP to Calculate number of days between two given dates."
   ]
  },
  {
   "cell_type": "code",
   "execution_count": 42,
   "metadata": {},
   "outputs": [
    {
     "name": "stdout",
     "output_type": "stream",
     "text": [
      "Diffrence :  14.0\n"
     ]
    }
   ],
   "source": [
    "date1 = int(input(\"Enter First Date : \"))\n",
    "date2 = int(input(\"Enter Second Date : \"))\n",
    "print(\"Diffrence : \",math.fabs(date1-date2))"
   ]
  },
  {
   "cell_type": "markdown",
   "metadata": {},
   "source": [
    "### 07) WAP to Find the day of the week of a given date."
   ]
  },
  {
   "cell_type": "code",
   "execution_count": 76,
   "metadata": {},
   "outputs": [
    {
     "name": "stdout",
     "output_type": "stream",
     "text": [
      "Wednesday\n"
     ]
    }
   ],
   "source": [
    "date = datetime.datetime.today()\n",
    "\n",
    "print(date.strftime(\"%A\"))"
   ]
  }
 ],
 "metadata": {
  "kernelspec": {
   "display_name": "Python 3.9.12 ('base')",
   "language": "python",
   "name": "python3"
  },
  "language_info": {
   "codemirror_mode": {
    "name": "ipython",
    "version": 3
   },
   "file_extension": ".py",
   "mimetype": "text/x-python",
   "name": "python",
   "nbconvert_exporter": "python",
   "pygments_lexer": "ipython3",
   "version": "3.9.12"
  },
  "vscode": {
   "interpreter": {
    "hash": "ad2bdc8ecc057115af97d19610ffacc2b4e99fae6737bb82f5d7fb13d2f2c186"
   }
  }
 },
 "nbformat": 4,
 "nbformat_minor": 4
}
